{
  "nbformat": 4,
  "nbformat_minor": 0,
  "metadata": {
    "colab": {
      "name": "Revisao_AnaliseEsportiva.ipynb",
      "provenance": [],
      "collapsed_sections": []
    },
    "kernelspec": {
      "name": "python3",
      "display_name": "Python 3"
    },
    "language_info": {
      "name": "python"
    }
  },
  "cells": [
    {
      "cell_type": "code",
      "execution_count": 2,
      "metadata": {
        "colab": {
          "base_uri": "https://localhost:8080/"
        },
        "id": "G_AzEgKwCo9s",
        "outputId": "1042edce-5323-46c9-de50-8ddb1060ab9b"
      },
      "outputs": [
        {
          "output_type": "execute_result",
          "data": {
            "text/plain": [
              "10"
            ]
          },
          "metadata": {},
          "execution_count": 2
        }
      ],
      "source": [
        "1# Importar base de dados de todas as ligas possíveis\n",
        "2# Concatenar dataframes por grupo de ligas\n",
        "3# Criar coluna Liga recebendo o nome do correspondente\n",
        "4# Concatenar tabelas das ligas principais e secundárias, separadamente. Pois possuem colunas diferentes\n",
        "5# Selecionar colunas a serem utilizadas\n",
        "6# Renomear colunas para compatibilidade entre tabelas\n",
        "7# Concatenar tabelas das ligas principais e secundárias em 1 dataframe\n",
        "8# Limpar dados inválidos e vazios\n",
        "9# Iniciar procedimentos de análises\n",
        "10# Ajustar index"
      ]
    },
    {
      "cell_type": "code",
      "source": [
        "import pandas as pd \n",
        "import numpy as np \n"
      ],
      "metadata": {
        "id": "y2zV-LT7Cv0l"
      },
      "execution_count": 3,
      "outputs": []
    },
    {
      "cell_type": "code",
      "source": [
        "# Inglaterra 1\n",
        "ENG1_01 = pd.read_csv(\"https://www.football-data.co.uk/mmz4281/2122/E0.csv\")\n",
        "ENG1_02 = pd.read_csv(\"https://www.football-data.co.uk/mmz4281/2021/E0.csv\")\n",
        "ENG1_03 = pd.read_csv(\"https://www.football-data.co.uk/mmz4281/1920/E0.csv\")\n",
        "ENG1_04 = pd.read_csv(\"https://www.football-data.co.uk/mmz4281/1819/E0.csv\")\n",
        "\n",
        "ENG1 = [ENG1_01,ENG1_02,ENG1_03,ENG1_04]\n",
        "ENG1 = pd.concat(ENG1)\n",
        "ENG1['Liga'] = 'Inglaterra 1'\n",
        "\n",
        "# Inglaterra 2\n",
        "ENG2_01 = pd.read_csv(\"https://www.football-data.co.uk/mmz4281/2122/E1.csv\")\n",
        "ENG2_02 = pd.read_csv(\"https://www.football-data.co.uk/mmz4281/2021/E1.csv\")\n",
        "ENG2_03 = pd.read_csv(\"https://www.football-data.co.uk/mmz4281/1920/E1.csv\")\n",
        "ENG2_04 = pd.read_csv(\"https://www.football-data.co.uk/mmz4281/1819/E1.csv\")\n",
        "\n",
        "ENG2 = [ENG2_01,ENG2_02,ENG2_03,ENG2_04]\n",
        "ENG2 = pd.concat(ENG2)\n",
        "ENG2['Liga'] = 'Inglaterra 2'\n",
        "\n",
        "# Escócia 1\n",
        "SCO1_01 = pd.read_csv(\"https://www.football-data.co.uk/mmz4281/2122/SC0.csv\")\n",
        "SCO1_02 = pd.read_csv(\"https://www.football-data.co.uk/mmz4281/2021/SC0.csv\")\n",
        "SCO1_03 = pd.read_csv(\"https://www.football-data.co.uk/mmz4281/1920/SC0.csv\")\n",
        "SCO1 = [SCO1_01,SCO1_02,SCO1_03,]\n",
        "SCO1 = pd.concat(SCO1)\n",
        "SCO1['Liga'] = 'Escócia 1'\n",
        "\n",
        "# Alemanha 1\n",
        "GER1_01 = pd.read_csv(\"https://www.football-data.co.uk/mmz4281/2122/D1.csv\")\n",
        "GER1_02 = pd.read_csv(\"https://www.football-data.co.uk/mmz4281/2021/D1.csv\")\n",
        "GER1_03 = pd.read_csv(\"https://www.football-data.co.uk/mmz4281/1920/D1.csv\")\n",
        "GER1_04 = pd.read_csv(\"https://www.football-data.co.uk/mmz4281/1819/D1.csv\")\n",
        "\n",
        "GER1 = [GER1_01,GER1_02,GER1_03,GER1_04]\n",
        "GER1 = pd.concat(GER1)\n",
        "GER1['Liga'] = 'Alemanha 1'\n",
        "\n",
        "# Alemanha 2\n",
        "GER2_01 = pd.read_csv(\"https://www.football-data.co.uk/mmz4281/2122/D2.csv\")\n",
        "GER2_02 = pd.read_csv(\"https://www.football-data.co.uk/mmz4281/2021/D2.csv\")\n",
        "GER2_03 = pd.read_csv(\"https://www.football-data.co.uk/mmz4281/1920/D2.csv\")\n",
        "GER2_04 = pd.read_csv(\"https://www.football-data.co.uk/mmz4281/1819/D2.csv\")\n",
        "\n",
        "GER2 = [GER2_01,GER2_02,GER2_03,GER2_04]\n",
        "GER2 = pd.concat(GER2)\n",
        "GER2['Liga'] = 'Alemanha 2'\n",
        "\n",
        "# Itália 1\n",
        "ITA1_01 = pd.read_csv(\"https://www.football-data.co.uk/mmz4281/2122/I1.csv\")\n",
        "ITA1_02 = pd.read_csv(\"https://www.football-data.co.uk/mmz4281/2021/I1.csv\")\n",
        "ITA1_03 = pd.read_csv(\"https://www.football-data.co.uk/mmz4281/1920/I1.csv\")\n",
        "ITA1_04 = pd.read_csv(\"https://www.football-data.co.uk/mmz4281/1819/I1.csv\")\n",
        "\n",
        "ITA1 = [ITA1_01,ITA1_02,ITA1_03,ITA1_04]\n",
        "ITA1 = pd.concat(ITA1)\n",
        "ITA1['Liga'] = 'Itália 1'\n",
        "\n",
        "# Itália 2\n",
        "ITA2_01 = pd.read_csv(\"https://www.football-data.co.uk/mmz4281/2122/I2.csv\")\n",
        "ITA2_02 = pd.read_csv(\"https://www.football-data.co.uk/mmz4281/2021/I2.csv\")\n",
        "ITA2_03 = pd.read_csv(\"https://www.football-data.co.uk/mmz4281/1920/I2.csv\")\n",
        "ITA2 = [ITA2_01,ITA2_02,ITA2_03]\n",
        "ITA2 = pd.concat(ITA2)\n",
        "ITA2['Liga'] = 'Itália 2'\n",
        "\n",
        "# Espanha 1\n",
        "SPA1_01 = pd.read_csv(\"https://www.football-data.co.uk/mmz4281/2122/SP1.csv\")\n",
        "SPA1_02 = pd.read_csv(\"https://www.football-data.co.uk/mmz4281/2021/SP1.csv\")\n",
        "SPA1_03 = pd.read_csv(\"https://www.football-data.co.uk/mmz4281/1920/SP1.csv\")\n",
        "SPA1_04 = pd.read_csv(\"https://www.football-data.co.uk/mmz4281/1819/SP1.csv\")\n",
        "\n",
        "SPA1 = [SPA1_01,SPA1_02,SPA1_03,SPA1_04]\n",
        "SPA1 = pd.concat(SPA1)\n",
        "SPA1['Liga'] = 'Espanha 1'\n",
        "\n",
        "# Espanha 2\n",
        "SPA2_01 = pd.read_csv(\"https://www.football-data.co.uk/mmz4281/2122/SP2.csv\")\n",
        "SPA2_02 = pd.read_csv(\"https://www.football-data.co.uk/mmz4281/2021/SP2.csv\")\n",
        "SPA2_03 = pd.read_csv(\"https://www.football-data.co.uk/mmz4281/1920/SP2.csv\")\n",
        "SPA2_04 = pd.read_csv(\"https://www.football-data.co.uk/mmz4281/1819/SP2.csv\")\n",
        "\n",
        "SPA2 = [SPA2_01,SPA2_02,SPA2_03,SPA2_04,]\n",
        "SPA2 = pd.concat(SPA2)\n",
        "SPA2['Liga'] = 'Espanha 2'\n",
        "\n",
        "# França 1\n",
        "FRA1_01 = pd.read_csv(\"https://www.football-data.co.uk/mmz4281/2122/F1.csv\")\n",
        "FRA1_02 = pd.read_csv(\"https://www.football-data.co.uk/mmz4281/2021/F1.csv\")\n",
        "FRA1_03 = pd.read_csv(\"https://www.football-data.co.uk/mmz4281/1920/F1.csv\")\n",
        "FRA1_04 = pd.read_csv(\"https://www.football-data.co.uk/mmz4281/1819/F1.csv\")\n",
        "\n",
        "FRA1 = [FRA1_01,FRA1_02,FRA1_03,FRA1_04]\n",
        "FRA1 = pd.concat(FRA1)\n",
        "FRA1['Liga'] = 'França 1'\n",
        "\n",
        "# França 2\n",
        "FRA2_01 = pd.read_csv(\"https://www.football-data.co.uk/mmz4281/2122/F2.csv\")\n",
        "FRA2_02 = pd.read_csv(\"https://www.football-data.co.uk/mmz4281/2021/F2.csv\")\n",
        "FRA2_03 = pd.read_csv(\"https://www.football-data.co.uk/mmz4281/1920/F2.csv\")\n",
        "FRA2_04 = pd.read_csv(\"https://www.football-data.co.uk/mmz4281/1819/F2.csv\")\n",
        "\n",
        "FRA2 = [FRA2_01,FRA2_02,FRA2_03,FRA2_04]\n",
        "FRA2 = pd.concat(FRA2)\n",
        "FRA2['Liga'] = 'França 2'\n",
        "\n",
        "# Holanda 1\n",
        "NET1_01 = pd.read_csv(\"https://www.football-data.co.uk/mmz4281/2122/N1.csv\")\n",
        "NET1_02 = pd.read_csv(\"https://www.football-data.co.uk/mmz4281/2021/N1.csv\")\n",
        "NET1_03 = pd.read_csv(\"https://www.football-data.co.uk/mmz4281/1920/N1.csv\")\n",
        "NET1_04 = pd.read_csv(\"https://www.football-data.co.uk/mmz4281/1819/N1.csv\")\n",
        "\n",
        "NET1 = [NET1_01,NET1_02,NET1_03,NET1_04]\n",
        "NET1 = pd.concat(NET1)\n",
        "NET1['Liga'] = 'Holanda 1'\n",
        "\n",
        "# Bélgica 1\n",
        "BEL1_01 = pd.read_csv(\"https://www.football-data.co.uk/mmz4281/2122/B1.csv\")\n",
        "BEL1_02 = pd.read_csv(\"https://www.football-data.co.uk/mmz4281/2021/B1.csv\")\n",
        "BEL1_03 = pd.read_csv(\"https://www.football-data.co.uk/mmz4281/1920/B1.csv\")\n",
        "BEL1_04 = pd.read_csv(\"https://www.football-data.co.uk/mmz4281/1819/B1.csv\")\n",
        "\n",
        "BEL1 = [BEL1_01,BEL1_02,BEL1_03,BEL1_04]\n",
        "BEL1 = pd.concat(BEL1)\n",
        "BEL1['Liga'] = 'Bélgica 1'\n",
        "\n",
        "# Portugal 1\n",
        "POR1_01 = pd.read_csv(\"https://www.football-data.co.uk/mmz4281/2122/P1.csv\")\n",
        "POR1_02 = pd.read_csv(\"https://www.football-data.co.uk/mmz4281/2021/P1.csv\")\n",
        "POR1_03 = pd.read_csv(\"https://www.football-data.co.uk/mmz4281/1920/P1.csv\")\n",
        "POR1_04 = pd.read_csv(\"https://www.football-data.co.uk/mmz4281/1819/P1.csv\")\n",
        "\n",
        "POR1 = [POR1_01,POR1_02,POR1_03,POR1_04]\n",
        "POR1 = pd.concat(POR1)\n",
        "POR1['Liga'] = 'Portugal 1'\n",
        "\n",
        "# Turquia 1\n",
        "TUR1_01 = pd.read_csv(\"https://www.football-data.co.uk/mmz4281/2122/T1.csv\")\n",
        "TUR1_02 = pd.read_csv(\"https://www.football-data.co.uk/mmz4281/2021/T1.csv\")\n",
        "TUR1_03 = pd.read_csv(\"https://www.football-data.co.uk/mmz4281/1920/T1.csv\")\n",
        "TUR1_04 = pd.read_csv(\"https://www.football-data.co.uk/mmz4281/1819/T1.csv\")\n",
        "\n",
        "TUR1 = [TUR1_01,TUR1_02,TUR1_03,TUR1_04]\n",
        "TUR1 = pd.concat(TUR1)\n",
        "TUR1['Liga'] = 'Turquia 1'\n",
        "\n",
        "# Grécia 1\n",
        "GRE1_01 = pd.read_csv(\"https://www.football-data.co.uk/mmz4281/2122/G1.csv\")\n",
        "GRE1_02 = pd.read_csv(\"https://www.football-data.co.uk/mmz4281/2021/G1.csv\")\n",
        "GRE1_03 = pd.read_csv(\"https://www.football-data.co.uk/mmz4281/1920/G1.csv\")\n",
        "GRE1_04 = pd.read_csv(\"https://www.football-data.co.uk/mmz4281/1819/G1.csv\")\n",
        "\n",
        "GRE1 = [GRE1_01,GRE1_02,GRE1_03,GRE1_04]\n",
        "GRE1 = pd.concat(GRE1)\n",
        "GRE1['Liga'] = 'Grécia 1'\n"
      ],
      "metadata": {
        "id": "mpEtamWLDAdl"
      },
      "execution_count": 4,
      "outputs": []
    },
    {
      "cell_type": "code",
      "source": [
        "ARG = pd.read_csv(\"https://www.football-data.co.uk/new/ARG.csv\")\n",
        "ARG['Liga'] = 'Argentina'\n",
        "\n",
        "AUS = pd.read_csv(\"https://www.football-data.co.uk/new/AUT.csv\")\n",
        "AUS['Liga'] = 'Austria'\n",
        "\n",
        "BRA = pd.read_csv(\"https://www.football-data.co.uk/new/BRA.csv\")\n",
        "BRA['Liga'] = 'Brasil'\n",
        "\n",
        "CHI = pd.read_csv(\"https://www.football-data.co.uk/new/CHN.csv\")\n",
        "CHI['Liga'] = 'China'\n",
        "\n",
        "DIN = pd.read_csv(\"https://www.football-data.co.uk/new/DNK.csv\")\n",
        "DIN['Liga'] = 'Dinamarca'\n",
        "\n",
        "FIN = pd.read_csv(\"https://www.football-data.co.uk/new/FIN.csv\")\n",
        "FIN['Liga'] = 'Finlândia'\n",
        "\n",
        "IRL = pd.read_csv(\"https://www.football-data.co.uk/new/IRL.csv\")\n",
        "IRL['Liga'] = 'Irlanda'\n",
        "\n",
        "JAP = pd.read_csv(\"https://www.football-data.co.uk/new/JPN.csv\")\n",
        "JAP['Liga'] = 'Japão'\n",
        "\n",
        "MEX = pd.read_csv(\"https://www.football-data.co.uk/new/MEX.csv\")\n",
        "MEX['Liga'] = 'México'\n",
        "\n",
        "NOR = pd.read_csv(\"https://www.football-data.co.uk/new/NOR.csv\")\n",
        "NOR['Liga'] = 'Noruega'\n",
        "\n",
        "POL = pd.read_csv(\"https://www.football-data.co.uk/new/POL.csv\")\n",
        "POL['Liga'] = 'Polônia'\n",
        "\n",
        "ROM = pd.read_csv(\"https://www.football-data.co.uk/new/ROU.csv\")\n",
        "ROM['Liga'] = 'Romêmia'\n",
        "\n",
        "RUS = pd.read_csv(\"https://www.football-data.co.uk/new/RUS.csv\")\n",
        "RUS['Liga'] = 'Rússia'\n",
        "\n",
        "SUE = pd.read_csv(\"https://www.football-data.co.uk/new/SWE.csv\")\n",
        "SUE['Liga'] = 'Suécia'\n",
        "\n",
        "SUI = pd.read_csv(\"https://www.football-data.co.uk/new/SWZ.csv\")\n",
        "SUI['Liga'] = 'Suíça'\n",
        "\n",
        "USA = pd.read_csv(\"https://www.football-data.co.uk/new/USA.csv\")\n",
        "USA['Liga'] = 'USA'"
      ],
      "metadata": {
        "id": "hnAiTaQzNy6a"
      },
      "execution_count": 5,
      "outputs": []
    },
    {
      "cell_type": "code",
      "source": [
        "#Concatenar tabelas\n",
        "df1 = [ENG1, ENG2, SCO1, GER1, GER2, ITA1, ITA2, SPA1, SPA2, FRA1, FRA2, NET1, BEL1, POR1, TUR1, GRE1]\n",
        "df1 = pd.concat(df1)\n",
        "\n",
        "df2 = [ARG, AUS, BRA, CHI, DIN, FIN, IRL, JAP, MEX, NOR, POL, ROM, RUS, SUE, SUI, USA]\n",
        "df2 = pd.concat(df2)"
      ],
      "metadata": {
        "id": "jTFxR6fnSKfk"
      },
      "execution_count": 15,
      "outputs": []
    },
    {
      "cell_type": "code",
      "source": [
        "#Selecionar colunas\n",
        "df1 = df1[['Liga','Date','HomeTeam','AwayTeam','FTHG','FTAG','FTR','B365H','B365D','B365A']]\n",
        "df2 = df2[['Liga','Date','Home','Away','HG','AG','Res','PH','PD','PA']]\n",
        "\n",
        "#Mudar formato de datas\n",
        "df1['Date'] = pd.to_datetime(df1.Date)\n",
        "df2['Date'] = pd.to_datetime(df2.Date)\n",
        "\n",
        "#Renomear colunas para concatenação\n",
        "df1.columns = ['Liga','Data','Mandante','Visitante','Gols_Mandante','Gols_Visitante','Resultado','Odds_Mandante','Odds_Empate','Odds_Visitante']\n",
        "df2.columns = ['Liga','Data','Mandante','Visitante','Gols_Mandante','Gols_Visitante','Resultado','Odds_Mandante','Odds_Empate','Odds_Visitante']\n",
        "\n",
        "df = [df1, df2]\n",
        "df = pd.concat(df)"
      ],
      "metadata": {
        "id": "KryHSB-9SK1-"
      },
      "execution_count": null,
      "outputs": []
    },
    {
      "cell_type": "code",
      "source": [
        "df = df.dropna()\n",
        "#Converter coluna Data para o formato de datetime\n",
        "df['Data'] = pd.to_datetime(df['Data'])\n",
        "\n",
        "# Criar coluna 'Ano'\n",
        "df['Ano'] = df['Data'].dt.year\n",
        "\n",
        "#Coluna Data formatada\n",
        "df['Data'] = df['Data'].dt.strftime('%Y/%m/%d')\n",
        "df = df.sort_values('Data')\n",
        "\n",
        "# Eliminar as partidas antes de 2020\n",
        "df = df.drop(df[df.Ano < 2020].index) \n",
        "\n",
        "#Reposicionar coluna Ano nas primeiras colunas, re-selecionando todas\n",
        "#na ordem que eu preciso\n",
        "df = df[['Liga','Ano', 'Data','Mandante','Visitante','Gols_Mandante','Gols_Visitante','Resultado','Odds_Mandante','Odds_Empate','Odds_Visitante']]"
      ],
      "metadata": {
        "id": "jriMHHRmS4Ko"
      },
      "execution_count": 18,
      "outputs": []
    },
    {
      "cell_type": "code",
      "source": [
        "#Criar coluna TOTAL GOLS\n",
        "#Função lambda passa linha por linha, nas colunas Gols_Mandante e Gols Visitante, somando seus valores e depositando em Total_Gols\n",
        "df['Total_Gols'] = df.apply(lambda row: (row['Gols_Mandante']+ row['Gols_Visitante']), axis=1)"
      ],
      "metadata": {
        "id": "TC2ro0g1f3vj"
      },
      "execution_count": 42,
      "outputs": []
    },
    {
      "cell_type": "code",
      "source": [
        "#Reset Index\n",
        "df.reset_index(inplace=True, drop=True)\n",
        "\n",
        "#Renomear nome da coluna do index\n",
        "df.index = df.index.set_names(['Nº'])\n",
        "\n",
        "#Lambda (Estudar sobre)\n",
        "df = df.rename(index=lambda x: x + 1)\n"
      ],
      "metadata": {
        "id": "zk1S9E4nV3Jf"
      },
      "execution_count": 20,
      "outputs": []
    },
    {
      "cell_type": "code",
      "source": [
        "df"
      ],
      "metadata": {
        "id": "ACxM6bAAS4QL"
      },
      "execution_count": null,
      "outputs": []
    },
    {
      "cell_type": "code",
      "source": [
        "#Calculando perdas e lucro\n",
        "win_home = 1*df.Odds_Mandante - 1\n",
        "win_away = 1*df.Odds_Visitante - 1\n",
        "draw = 1*df.Odds_Empate - 1\n",
        "lose = -1"
      ],
      "metadata": {
        "id": "AvHV3f10YWUX"
      },
      "execution_count": 21,
      "outputs": []
    },
    {
      "cell_type": "code",
      "source": [
        "#Adicionar coluna com o resultado da aposta\n",
        "df['Win_Mandante'] = win_home.where(df.Resultado=='H', other= lose)\n",
        "df['Empate'] = draw.where(df.Resultado=='D', other= lose)\n",
        "df['Win_Visitante'] = win_away.where(df.Resultado=='A', other= lose)\n"
      ],
      "metadata": {
        "id": "11vktkX1aWGj"
      },
      "execution_count": 22,
      "outputs": []
    },
    {
      "cell_type": "code",
      "source": [
        "#Visualizar dataframe\n",
        "ano = int(input('Digite o ano que deseja pesquisar: '))\n",
        "time = input('Digite o nome do time: ')\n",
        "pesquisa = df[(df.Ano == ano) & (df.Mandante == time)]\n",
        "\n",
        "\n",
        "#Reset Index\n",
        "pesquisa.reset_index(inplace=True, drop=True)\n",
        "#Lambda (Estudar sobre)\n",
        "pesquisa = pesquisa.rename(index=lambda x: x + 1)\n",
        "#Renomear index\n",
        "pesquisa.index = pesquisa.index.set_names(['Nº'])\n",
        "\n",
        "\n"
      ],
      "metadata": {
        "id": "GjkyzvwjYWkh",
        "colab": {
          "base_uri": "https://localhost:8080/"
        },
        "outputId": "95bd4413-ce27-440e-b82f-e22c72aebedf"
      },
      "execution_count": 34,
      "outputs": [
        {
          "name": "stdout",
          "output_type": "stream",
          "text": [
            "Digite o ano que deseja pesquisar: 2022\n",
            "Digite o nome do time: Flamengo RJ\n"
          ]
        }
      ]
    },
    {
      "cell_type": "code",
      "source": [
        "pesquisa"
      ],
      "metadata": {
        "id": "k2bQqb401Ww_"
      },
      "execution_count": null,
      "outputs": []
    },
    {
      "cell_type": "code",
      "source": [
        "pesquisa['AcumuladoHome'] = pesquisa.Win_Mandante.cumsum()\n",
        "pesquisa.AcumuladoHome.plot(title='Vitória em casa', xlabel='Quantidade de apostas', ylabel='Stakes')"
      ],
      "metadata": {
        "id": "Q9cm_cxIeGBP",
        "colab": {
          "base_uri": "https://localhost:8080/",
          "height": 312
        },
        "outputId": "a2b9daa1-3a24-4857-cbdb-3885a1519b91"
      },
      "execution_count": 37,
      "outputs": [
        {
          "output_type": "execute_result",
          "data": {
            "text/plain": [
              "<matplotlib.axes._subplots.AxesSubplot at 0x7f52a82a4350>"
            ]
          },
          "metadata": {},
          "execution_count": 37
        },
        {
          "output_type": "display_data",
          "data": {
            "text/plain": [
              "<Figure size 432x288 with 1 Axes>"
            ],
            "image/png": "[encoded data removed]"
          },
          "metadata": {
            "needs_background": "light"
          }
        }
      ]
    },
    {
      "cell_type": "code",
      "source": [
        "pesquisa['AcumuladoEmpate'] = pesquisa.Empate.cumsum()\n",
        "pesquisa.AcumuladoEmpate.plot(title='Empate em casa', xlabel='Quantidade de apostas', ylabel='Stakes')"
      ],
      "metadata": {
        "colab": {
          "base_uri": "https://localhost:8080/",
          "height": 312
        },
        "id": "NV2DpvABe2on",
        "outputId": "01f254cf-f7f6-4222-ee92-a8fadde8e9b2"
      },
      "execution_count": 38,
      "outputs": [
        {
          "output_type": "execute_result",
          "data": {
            "text/plain": [
              "<matplotlib.axes._subplots.AxesSubplot at 0x7f52a7f58590>"
            ]
          },
          "metadata": {},
          "execution_count": 38
        },
        {
          "output_type": "display_data",
          "data": {
            "text/plain": [
              "<Figure size 432x288 with 1 Axes>"
            ],
            "image/png": "[encoded data removed]"
          },
          "metadata": {
            "needs_background": "light"
          }
        }
      ]
    },
    {
      "cell_type": "code",
      "source": [
        "pesquisa['Acumulado_Derrota_Casa'] = pesquisa.Win_Visitante.cumsum()\n",
        "pesquisa.Acumulado_Derrota_Casa.plot(title='Apostando na derrota do Flamengo em casa', xlabel='Quantidade de apostas', ylabel='Stakes')"
      ],
      "metadata": {
        "colab": {
          "base_uri": "https://localhost:8080/",
          "height": 312
        },
        "id": "yQslW0givOXt",
        "outputId": "b2d59224-7072-46f0-9ea2-58c6eca488da"
      },
      "execution_count": 44,
      "outputs": [
        {
          "output_type": "execute_result",
          "data": {
            "text/plain": [
              "<matplotlib.axes._subplots.AxesSubplot at 0x7f52a8230550>"
            ]
          },
          "metadata": {},
          "execution_count": 44
        },
        {
          "output_type": "display_data",
          "data": {
            "text/plain": [
              "<Figure size 432x288 with 1 Axes>"
            ],
            "image/png": "[encoded data removed]"
          },
          "metadata": {
            "needs_background": "light"
          }
        }
      ]
    },
    {
      "cell_type": "code",
      "source": [
        "#df.to_excel('Análise.xlsx')"
      ],
      "metadata": {
        "id": "4KYxuRTJwrWz"
      },
      "execution_count": null,
      "outputs": []
    }
  ]
}